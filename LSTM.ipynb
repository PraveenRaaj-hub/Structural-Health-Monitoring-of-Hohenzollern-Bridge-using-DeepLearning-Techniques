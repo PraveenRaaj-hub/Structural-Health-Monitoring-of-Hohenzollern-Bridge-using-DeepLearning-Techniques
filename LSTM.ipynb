{
 "cells": [
  {
   "cell_type": "code",
   "execution_count": 6,
   "metadata": {},
   "outputs": [],
   "source": [
    "#imports\n",
    "import numpy as np\n",
    "import pandas as pd\n",
    "import tensorflow as tf\n",
    "import os\n",
    "import pathlib\n",
    "import random\n",
    "from sklearn.preprocessing import StandardScaler\n",
    "import matplotlib.pyplot as plt"
   ]
  },
  {
   "cell_type": "code",
   "execution_count": 7,
   "metadata": {},
   "outputs": [],
   "source": [
    "#Paths\n",
    "absolute_path_imperfect = os.path.join(os.path.abspath(''),\"Imperfect_structure_Data\")\n",
    "absolute_path_perfect = os.path.join(os.path.abspath(''),\"Perfect_Structure_data\")\n",
    "#We can change the case to test with deformation, stress etc\n",
    "case = \"Shear Stress YZ.csv\""
   ]
  },
  {
   "cell_type": "code",
   "execution_count": 8,
   "metadata": {},
   "outputs": [],
   "source": [
    "def generate_data_imperfect(imperfect, perfect, case):\n",
    "    \"\"\"\n",
    "    Generate data for training a neural network with the imperfect simulations.\n",
    "\n",
    "    Parameters:\n",
    "    imperfect (str): The path of the imperfect data file.\n",
    "    perfect (str): The path of the corresponding perfect data file.\n",
    "    case (str): The path of the case.\n",
    "\n",
    "    Returns:\n",
    "    numpy.ndarray: An array containing the data for training the neural network.\n",
    "    \"\"\"\n",
    "\n",
    "    # Get the path\n",
    "    path_imperfect = os.path.join(absolute_path_imperfect,imperfect)\n",
    "    path_perfect = os.path.join(absolute_path_perfect,perfect)\n",
    "    final_path_imperfect = os.path.join(path_imperfect, case)\n",
    "    final_path_perfect = os.path.join(path_perfect, case)\n",
    "\n",
    "    df_imperfect = pd.read_csv(final_path_imperfect)\n",
    "    df_perfect = pd.read_csv(final_path_perfect)\n",
    "\n",
    "    # We use the node number as the index\n",
    "    df_perfect.set_index(df_perfect[\"Node Number\"], inplace=True)\n",
    "    df_imperfect.set_index(df_imperfect[\"Node Number\"], inplace=True)\n",
    "    # We drop the columns that we don't need\n",
    "    df_perfect.drop(columns=[ \"Unnamed: 12\", \"Node Number\"], inplace=True)\n",
    "    df_imperfect.drop(columns=[ \"Unnamed: 12\", \"Node Number\"], inplace=True)\n",
    "\n",
    "    # We label the nodes that aren't missing with 0\n",
    "    df_perfect[\"Label\"] = 0\n",
    "    df_imperfect[\"Label\"] = 0\n",
    "\n",
    "    # We get the missing rows of the imperfect data\n",
    "    missing_rows = pd.DataFrame(df_perfect[~df_perfect.index.isin(df_imperfect.index)])\n",
    "    for column in missing_rows.columns:\n",
    "        missing_rows[column] = 10000 ### arbitrary value, which will be masked afterwards\n",
    "    missing_rows[\"Label\"] = 1\n",
    "    # We add the missing rows to the imperfect data and sort them according to the node number\n",
    "    df_imperfect_final = pd.concat([df_imperfect,missing_rows])\n",
    "    df_imperfect_final_sorted = df_imperfect_final.sort_index()\n",
    "    \n",
    "    data = []\n",
    "    # We choose the relevant columns\n",
    "    for column in df_imperfect_final_sorted.columns[1:-2]:\n",
    "        data.append(np.array(df_imperfect_final_sorted[column].values))\n",
    "    data.append(np.array(df_imperfect_final_sorted[\"Label\"].values))\n",
    "    return np.array(data)"
   ]
  },
  {
   "cell_type": "code",
   "execution_count": 9,
   "metadata": {},
   "outputs": [
    {
     "data": {
      "text/plain": [
       "array([[ 0.18969  ,  0.078474 ,  0.19178  , ..., -0.0036429,  0.018487 ,\n",
       "        -0.17476  ],\n",
       "       [ 0.37608  ,  0.15303  ,  0.38064  , ..., -0.007453 ,  0.03727  ,\n",
       "        -0.35352  ],\n",
       "       [ 0.18974  ,  0.078471 ,  0.19182  , ..., -0.003645 ,  0.018487 ,\n",
       "        -0.1748   ],\n",
       "       ...,\n",
       "       [ 2.0353   ,  0.33079  ,  1.0681   , ...,  0.0093193, -0.19251  ,\n",
       "         0.7734   ],\n",
       "       [ 1.0337   ,  0.17165  ,  0.55494  , ...,  0.0097816, -0.092647 ,\n",
       "         0.39221  ],\n",
       "       [ 0.       ,  0.       ,  0.       , ...,  0.       ,  0.       ,\n",
       "         0.       ]])"
      ]
     },
     "execution_count": 9,
     "metadata": {},
     "output_type": "execute_result"
    }
   ],
   "source": [
    "test = generate_data_imperfect(\"Imperfect_no_1_1_train_extreme_track_2000N\", \"Perfect_structure_1_train_extreme_track_2000N\", case)\n",
    "test"
   ]
  },
  {
   "cell_type": "code",
   "execution_count": 10,
   "metadata": {},
   "outputs": [],
   "source": [
    "\n",
    "\"\"\"\n",
    "Here we generate the data for the perfect simulations.\n",
    "\n",
    "\"\"\"\n",
    "def generate_data_perfect(perfect, case):\n",
    "    path_perfect = os.path.join(absolute_path_perfect,perfect)\n",
    "    final_path_perfect = os.path.join(path_perfect, case)\n",
    "\n",
    "    df_perfect = pd.read_csv(final_path_perfect)\n",
    "\n",
    "    df_perfect.set_index(df_perfect[\"Node Number\"], inplace=True)\n",
    "\n",
    "    df_perfect.drop(columns=[ \"Unnamed: 12\", \"Node Number\"], inplace=True)\n",
    "\n",
    "    df_perfect[\"Label\"] = 0\n",
    "\n",
    "    data = []\n",
    "    \n",
    "    for column in df_perfect.columns[1:-2]:\n",
    "        data.append(np.array(df_perfect[column].values))\n",
    "    data.append(np.array(df_perfect[\"Label\"].values))\n",
    "    return np.array(data)\n",
    " "
   ]
  },
  {
   "cell_type": "code",
   "execution_count": 11,
   "metadata": {},
   "outputs": [],
   "source": [
    "imperfect_paths = [\"Imperfect_no_1_1_train_extreme_track_2000N\", \"Imperfect_no_1_1_train_extreme_track_5000N\",\n",
    "                   \"Imperfect_no_1_2_trains_opposite_direction_extreme_track_2000N\", \"imperfect_no_2_1_train_extreme_Track_5000N\",\n",
    "                    \"Imperfect_no_2_2_trains_opposite_direction_Extreme_tracks_2000N\", \"Imperfect_no_3_1_train_extreme_track_2000N\",\n",
    "                    \"imperfect_no_3_1_train_extreme_track_5000N\", \"Imperfect_no_3_2_trains_opposite_direction_extreme_tracks_2000N\",\n",
    "                    \"imperfect_no_4_1_train_extreme_track_2000N\", \"imperfect_no_4_1_train_extreme_track_5000N\",\n",
    "                    \"Imperfect_no_4_2_trains_opposite_direction_extreme_track_2000N\", \"imperfect_no_5_1_train_extreme_track_2000N\",\n",
    "                    \"imperfect_no_5_1_train_extreme_track_5000N\", \"Imperfect_no_5_2_trains_opposite_direction_extreme_track_2000N\"                   \n",
    "                     ]\n",
    "\n",
    "perfect_paths = [\"Perfect_structure_1_train_extreme_track_2000N\", \"Perfect_structure_1_train_extreme_track_5000N\",\n",
    "                \"Perfect_structure_2_trains_opposite_direction_extreme_tracks_2000N\", \"Perfect_structure_1_train_middle_track_2000N\"]"
   ]
  },
  {
   "cell_type": "code",
   "execution_count": 12,
   "metadata": {},
   "outputs": [],
   "source": [
    "data_imperfect = np.vstack([[generate_data_imperfect(\"Imperfect_no_1_1_train_extreme_track_2000N\", \"Perfect_structure_1_train_extreme_track_2000N\", case)],\n",
    "                    [generate_data_imperfect(\"Imperfect_no_1_1_train_extreme_track_5000N\", \"Perfect_structure_1_train_extreme_track_5000N\", case)],\n",
    "                    [generate_data_imperfect(\"Imperfect_no_1_2_trains_opposite_direction_extreme_track_2000N\", \"Perfect_structure_2_trains_opposite_direction_extreme_tracks_2000N\" , case)],\n",
    "                    [generate_data_imperfect(\"imperfect_no_2_1_train_extreme_Track_5000N\",\"Perfect_structure_1_train_extreme_track_5000N\", case)],\n",
    "                    [generate_data_imperfect(\"Imperfect_no_2_2_trains_opposite_direction_Extreme_tracks_2000N\",\"Perfect_structure_2_trains_opposite_direction_extreme_tracks_2000N\", case)],\n",
    "                    [generate_data_imperfect(\"Imperfect_no_3_1_train_extreme_track_2000N\",\"Perfect_structure_1_train_extreme_track_2000N\" , case)],\n",
    "                    [generate_data_imperfect(\"imperfect_no_3_1_train_extreme_track_5000N\",\"Perfect_structure_1_train_extreme_track_5000N\", case)],\n",
    "                    [generate_data_imperfect(\"Imperfect_no_3_2_trains_opposite_direction_extreme_tracks_2000N\",\"Perfect_structure_2_trains_opposite_direction_extreme_tracks_2000N\", case)],\n",
    "                    [generate_data_imperfect(\"imperfect_no_4_1_train_extreme_track_2000N\",\"Perfect_structure_1_train_extreme_track_2000N\", case)],\n",
    "                    [generate_data_imperfect(\"imperfect_no_4_1_train_extreme_track_5000N\",\"Perfect_structure_1_train_extreme_track_5000N\", case)],\n",
    "                    [generate_data_imperfect(\"Imperfect_no_4_2_trains_opposite_direction_extreme_tracks_2000N\",\"Perfect_structure_2_trains_opposite_direction_extreme_tracks_2000N\", case)],\n",
    "                    [generate_data_imperfect(\"imperfect_no_5_1_train_extreme_track_2000N\",\"Perfect_structure_1_train_extreme_track_2000N\", case)],\n",
    "                    [generate_data_imperfect(\"imperfect_no_5_1_train_extreme_track_5000N\",\"Perfect_structure_1_train_extreme_track_5000N\", case)],\n",
    "                    [generate_data_imperfect(\"Imperfect_no_5_2_trains_opposite_direction_extreme_tracks_2000N\",\"Perfect_structure_2_trains_opposite_direction_extreme_tracks_2000N\", case)]])\n",
    "                    \n"
   ]
  },
  {
   "cell_type": "code",
   "execution_count": 13,
   "metadata": {},
   "outputs": [
    {
     "data": {
      "text/plain": [
       "(14, 10, 29226)"
      ]
     },
     "execution_count": 13,
     "metadata": {},
     "output_type": "execute_result"
    }
   ],
   "source": [
    "data_imperfect.shape\n"
   ]
  },
  {
   "cell_type": "code",
   "execution_count": 14,
   "metadata": {},
   "outputs": [
    {
     "data": {
      "text/plain": [
       "(4, 10, 29226)"
      ]
     },
     "execution_count": 14,
     "metadata": {},
     "output_type": "execute_result"
    }
   ],
   "source": [
    "data_perfect = np.vstack([[generate_data_perfect(perfect_paths[i], case) for i in range(len(perfect_paths))]])\n",
    "data_perfect.shape"
   ]
  },
  {
   "cell_type": "code",
   "execution_count": 15,
   "metadata": {},
   "outputs": [
    {
     "data": {
      "text/plain": [
       "(18, 10, 29226)"
      ]
     },
     "execution_count": 15,
     "metadata": {},
     "output_type": "execute_result"
    }
   ],
   "source": [
    "# We create the final data array\n",
    "data_final = np.vstack([data_imperfect, data_perfect])\n",
    "data_final.shape\n"
   ]
  },
  {
   "cell_type": "code",
   "execution_count": 16,
   "metadata": {},
   "outputs": [],
   "source": [
    "# We shuffle the data\n",
    "data_final = np.random.permutation(data_final)"
   ]
  },
  {
   "cell_type": "code",
   "execution_count": 17,
   "metadata": {},
   "outputs": [
    {
     "data": {
      "text/plain": [
       "(18, 10, 29226)"
      ]
     },
     "execution_count": 17,
     "metadata": {},
     "output_type": "execute_result"
    }
   ],
   "source": [
    "data_final.shape"
   ]
  },
  {
   "cell_type": "code",
   "execution_count": 18,
   "metadata": {},
   "outputs": [],
   "source": [
    "# We separate the data into values and labels\n",
    "values = []\n",
    "labels = []\n",
    "for element in data_final:\n",
    "    values.append(element[0:-1])\n",
    "    labels.append(element[-1])"
   ]
  },
  {
   "cell_type": "code",
   "execution_count": 19,
   "metadata": {},
   "outputs": [],
   "source": [
    "values = np.array(values)\n",
    "labels = np.array(labels)"
   ]
  },
  {
   "cell_type": "code",
   "execution_count": 17,
   "metadata": {},
   "outputs": [
    {
     "data": {
      "text/plain": [
       "(18, 9, 29226)"
      ]
     },
     "execution_count": 17,
     "metadata": {},
     "output_type": "execute_result"
    }
   ],
   "source": [
    "values.shape"
   ]
  },
  {
   "cell_type": "code",
   "execution_count": 18,
   "metadata": {},
   "outputs": [
    {
     "data": {
      "text/plain": [
       "(18, 29226)"
      ]
     },
     "execution_count": 18,
     "metadata": {},
     "output_type": "execute_result"
    }
   ],
   "source": [
    "labels.shape"
   ]
  },
  {
   "cell_type": "code",
   "execution_count": 19,
   "metadata": {},
   "outputs": [],
   "source": [
    "# Define the model\n",
    "model = tf.keras.models.Sequential()\n",
    "\n",
    "# Add a masking layer\n",
    "model.add(tf.keras.layers.Masking(mask_value=10000, input_shape=(values.shape[1], values.shape[2])))\n",
    "# Add an LSTM layer\n",
    "model.add(tf.keras.layers.LSTM(units=128, activation='relu'))\n",
    "\n",
    "# Add a Dense output layer with sigmoid activation for binary classification\n",
    "model.add(tf.keras.layers.Dense(units=29226, activation='sigmoid'))"
   ]
  },
  {
   "cell_type": "code",
   "execution_count": 20,
   "metadata": {},
   "outputs": [],
   "source": [
    "# For classification we use binary crossentropy as loss function\n",
    "model.compile(optimizer=tf.keras.optimizers.Adam(learning_rate=0.0005), loss=\"binary_crossentropy\", metrics=tf.keras.metrics.BinaryAccuracy())\n",
    "early_stopping = tf.keras.callbacks.EarlyStopping(monitor='val_loss', patience=50, restore_best_weights=True)\n"
   ]
  },
  {
   "cell_type": "code",
   "execution_count": 21,
   "metadata": {},
   "outputs": [
    {
     "name": "stdout",
     "output_type": "stream",
     "text": [
      "Model: \"sequential\"\n",
      "_________________________________________________________________\n",
      " Layer (type)                Output Shape              Param #   \n",
      "=================================================================\n",
      " masking (Masking)           (None, 9, 29226)          0         \n",
      "                                                                 \n",
      " lstm (LSTM)                 (None, 128)               15029760  \n",
      "                                                                 \n",
      " dense (Dense)               (None, 29226)             3770154   \n",
      "                                                                 \n",
      "=================================================================\n",
      "Total params: 18799914 (71.72 MB)\n",
      "Trainable params: 18799914 (71.72 MB)\n",
      "Non-trainable params: 0 (0.00 Byte)\n",
      "_________________________________________________________________\n"
     ]
    }
   ],
   "source": [
    "model.summary()"
   ]
  },
  {
   "cell_type": "code",
   "execution_count": 22,
   "metadata": {},
   "outputs": [
    {
     "name": "stdout",
     "output_type": "stream",
     "text": [
      "Epoch 1/400\n",
      "2/2 [==============================] - 3s 785ms/step - loss: 111.0772 - binary_accuracy: 0.5057 - val_loss: 73.3011 - val_binary_accuracy: 0.5508\n",
      "Epoch 2/400\n",
      "2/2 [==============================] - 1s 366ms/step - loss: 90.9940 - binary_accuracy: 0.5522 - val_loss: 57.2100 - val_binary_accuracy: 0.6092\n",
      "Epoch 3/400\n",
      "2/2 [==============================] - 1s 371ms/step - loss: 45.4445 - binary_accuracy: 0.6113 - val_loss: 56.3594 - val_binary_accuracy: 0.6606\n",
      "Epoch 4/400\n",
      "2/2 [==============================] - 1s 385ms/step - loss: 48.8054 - binary_accuracy: 0.6476 - val_loss: 51.0730 - val_binary_accuracy: 0.7376\n",
      "Epoch 5/400\n",
      "2/2 [==============================] - 1s 394ms/step - loss: 32.7559 - binary_accuracy: 0.7137 - val_loss: 32.5008 - val_binary_accuracy: 0.7775\n",
      "Epoch 6/400\n",
      "2/2 [==============================] - 1s 403ms/step - loss: 28.3973 - binary_accuracy: 0.7514 - val_loss: 26.3404 - val_binary_accuracy: 0.7998\n",
      "Epoch 7/400\n",
      "2/2 [==============================] - 1s 378ms/step - loss: 16.9268 - binary_accuracy: 0.7974 - val_loss: 18.6828 - val_binary_accuracy: 0.8387\n",
      "Epoch 8/400\n",
      "2/2 [==============================] - 1s 357ms/step - loss: 11.0446 - binary_accuracy: 0.8302 - val_loss: 20.1746 - val_binary_accuracy: 0.8671\n",
      "Epoch 9/400\n",
      "2/2 [==============================] - 1s 379ms/step - loss: 9.5134 - binary_accuracy: 0.8607 - val_loss: 17.4345 - val_binary_accuracy: 0.8759\n",
      "Epoch 10/400\n",
      "2/2 [==============================] - 1s 416ms/step - loss: 14.9023 - binary_accuracy: 0.8690 - val_loss: 17.1447 - val_binary_accuracy: 0.8882\n",
      "Epoch 11/400\n",
      "2/2 [==============================] - 1s 396ms/step - loss: 9.4282 - binary_accuracy: 0.9046 - val_loss: 13.9600 - val_binary_accuracy: 0.8896\n",
      "Epoch 12/400\n",
      "2/2 [==============================] - 1s 382ms/step - loss: 14.0090 - binary_accuracy: 0.8779 - val_loss: 13.1745 - val_binary_accuracy: 0.9158\n",
      "Epoch 13/400\n",
      "2/2 [==============================] - 1s 391ms/step - loss: 4.1228 - binary_accuracy: 0.8821 - val_loss: 11.2553 - val_binary_accuracy: 0.9266\n",
      "Epoch 14/400\n",
      "2/2 [==============================] - 1s 389ms/step - loss: 10.3176 - binary_accuracy: 0.8956 - val_loss: 10.3171 - val_binary_accuracy: 0.9421\n",
      "Epoch 15/400\n",
      "2/2 [==============================] - 1s 361ms/step - loss: 0.9700 - binary_accuracy: 0.9812 - val_loss: 9.3605 - val_binary_accuracy: 0.9434\n",
      "Epoch 16/400\n",
      "2/2 [==============================] - 1s 382ms/step - loss: 1.8675 - binary_accuracy: 0.9547 - val_loss: 8.8031 - val_binary_accuracy: 0.9489\n",
      "Epoch 17/400\n",
      "2/2 [==============================] - 1s 378ms/step - loss: 4.8494 - binary_accuracy: 0.9415 - val_loss: 9.0748 - val_binary_accuracy: 0.9531\n",
      "Epoch 18/400\n",
      "2/2 [==============================] - 1s 350ms/step - loss: 1.1211 - binary_accuracy: 0.9695 - val_loss: 10.1941 - val_binary_accuracy: 0.9426\n",
      "Epoch 19/400\n",
      "2/2 [==============================] - 1s 355ms/step - loss: 1.0321 - binary_accuracy: 0.9776 - val_loss: 9.5139 - val_binary_accuracy: 0.9591\n",
      "Epoch 20/400\n",
      "2/2 [==============================] - 1s 362ms/step - loss: 0.6044 - binary_accuracy: 0.9843 - val_loss: 12.0478 - val_binary_accuracy: 0.9526\n",
      "Epoch 21/400\n",
      "2/2 [==============================] - 1s 348ms/step - loss: 7.7894 - binary_accuracy: 0.9762 - val_loss: 9.2156 - val_binary_accuracy: 0.9655\n",
      "Epoch 22/400\n",
      "2/2 [==============================] - 1s 340ms/step - loss: 8.6927 - binary_accuracy: 0.9554 - val_loss: 10.9697 - val_binary_accuracy: 0.9558\n",
      "Epoch 23/400\n",
      "2/2 [==============================] - 1s 345ms/step - loss: 3.1706 - binary_accuracy: 0.9615 - val_loss: 9.1523 - val_binary_accuracy: 0.9640\n",
      "Epoch 24/400\n",
      "2/2 [==============================] - 1s 352ms/step - loss: 0.8738 - binary_accuracy: 0.9840 - val_loss: 8.9627 - val_binary_accuracy: 0.9704\n",
      "Epoch 25/400\n",
      "2/2 [==============================] - 1s 341ms/step - loss: 0.3781 - binary_accuracy: 0.9580 - val_loss: 9.4766 - val_binary_accuracy: 0.9593\n",
      "Epoch 26/400\n",
      "2/2 [==============================] - 1s 347ms/step - loss: 2.5286 - binary_accuracy: 0.9376 - val_loss: 8.9245 - val_binary_accuracy: 0.9686\n",
      "Epoch 27/400\n",
      "2/2 [==============================] - 1s 377ms/step - loss: 2.0026 - binary_accuracy: 0.9445 - val_loss: 8.8022 - val_binary_accuracy: 0.9692\n",
      "Epoch 28/400\n",
      "2/2 [==============================] - 1s 338ms/step - loss: 0.5499 - binary_accuracy: 0.9769 - val_loss: 8.9234 - val_binary_accuracy: 0.9710\n",
      "Epoch 29/400\n",
      "2/2 [==============================] - 1s 340ms/step - loss: 0.2265 - binary_accuracy: 0.9938 - val_loss: 9.9686 - val_binary_accuracy: 0.9689\n",
      "Epoch 30/400\n",
      "2/2 [==============================] - 1s 362ms/step - loss: 0.1665 - binary_accuracy: 0.9949 - val_loss: 8.7668 - val_binary_accuracy: 0.9705\n",
      "Epoch 31/400\n",
      "2/2 [==============================] - 1s 348ms/step - loss: 0.3604 - binary_accuracy: 0.9948 - val_loss: 9.5492 - val_binary_accuracy: 0.9754\n",
      "Epoch 32/400\n",
      "2/2 [==============================] - 1s 362ms/step - loss: 1.0158 - binary_accuracy: 0.9936 - val_loss: 9.0563 - val_binary_accuracy: 0.9774\n",
      "Epoch 33/400\n",
      "2/2 [==============================] - 1s 325ms/step - loss: 0.4212 - binary_accuracy: 0.9953 - val_loss: 9.0572 - val_binary_accuracy: 0.9738\n",
      "Epoch 34/400\n",
      "2/2 [==============================] - 1s 332ms/step - loss: 0.1805 - binary_accuracy: 0.9963 - val_loss: 8.7865 - val_binary_accuracy: 0.9739\n",
      "Epoch 35/400\n",
      "2/2 [==============================] - 1s 365ms/step - loss: 0.1537 - binary_accuracy: 0.9966 - val_loss: 8.6735 - val_binary_accuracy: 0.9753\n",
      "Epoch 36/400\n",
      "2/2 [==============================] - 1s 329ms/step - loss: 0.2076 - binary_accuracy: 0.9966 - val_loss: 8.7945 - val_binary_accuracy: 0.9756\n",
      "Epoch 37/400\n",
      "2/2 [==============================] - 1s 338ms/step - loss: 0.1693 - binary_accuracy: 0.9970 - val_loss: 9.6837 - val_binary_accuracy: 0.9737\n",
      "Epoch 38/400\n",
      "2/2 [==============================] - 1s 337ms/step - loss: 0.1727 - binary_accuracy: 0.9972 - val_loss: 9.9664 - val_binary_accuracy: 0.9721\n",
      "Epoch 39/400\n",
      "2/2 [==============================] - 1s 362ms/step - loss: 0.1567 - binary_accuracy: 0.9976 - val_loss: 8.9292 - val_binary_accuracy: 0.9724\n",
      "Epoch 40/400\n",
      "2/2 [==============================] - 1s 337ms/step - loss: 0.1561 - binary_accuracy: 0.9977 - val_loss: 9.0191 - val_binary_accuracy: 0.9693\n",
      "Epoch 41/400\n",
      "2/2 [==============================] - 1s 353ms/step - loss: 0.1546 - binary_accuracy: 0.9978 - val_loss: 8.6718 - val_binary_accuracy: 0.9727\n",
      "Epoch 42/400\n",
      "2/2 [==============================] - 1s 361ms/step - loss: 0.2320 - binary_accuracy: 0.9980 - val_loss: 8.6692 - val_binary_accuracy: 0.9728\n",
      "Epoch 43/400\n",
      "2/2 [==============================] - 1s 363ms/step - loss: 0.1913 - binary_accuracy: 0.9982 - val_loss: 8.6608 - val_binary_accuracy: 0.9727\n",
      "Epoch 44/400\n",
      "2/2 [==============================] - 1s 367ms/step - loss: 0.1628 - binary_accuracy: 0.9985 - val_loss: 8.6588 - val_binary_accuracy: 0.9728\n",
      "Epoch 45/400\n",
      "2/2 [==============================] - 1s 353ms/step - loss: 0.4231 - binary_accuracy: 0.9980 - val_loss: 8.6534 - val_binary_accuracy: 0.9729\n",
      "Epoch 46/400\n",
      "2/2 [==============================] - 1s 337ms/step - loss: 0.2081 - binary_accuracy: 0.9985 - val_loss: 8.8954 - val_binary_accuracy: 0.9709\n",
      "Epoch 47/400\n",
      "2/2 [==============================] - 1s 341ms/step - loss: 0.1687 - binary_accuracy: 0.9988 - val_loss: 8.8974 - val_binary_accuracy: 0.9701\n",
      "Epoch 48/400\n",
      "2/2 [==============================] - 1s 334ms/step - loss: 0.2512 - binary_accuracy: 0.9987 - val_loss: 8.7860 - val_binary_accuracy: 0.9717\n",
      "Epoch 49/400\n",
      "2/2 [==============================] - 1s 345ms/step - loss: 0.1788 - binary_accuracy: 0.9990 - val_loss: 8.8989 - val_binary_accuracy: 0.9718\n",
      "Epoch 50/400\n",
      "2/2 [==============================] - 1s 330ms/step - loss: 0.2161 - binary_accuracy: 0.9990 - val_loss: 8.9210 - val_binary_accuracy: 0.9715\n",
      "Epoch 51/400\n",
      "2/2 [==============================] - 1s 334ms/step - loss: 0.1483 - binary_accuracy: 0.9992 - val_loss: 8.8024 - val_binary_accuracy: 0.9714\n",
      "Epoch 52/400\n",
      "2/2 [==============================] - 1s 342ms/step - loss: 0.1836 - binary_accuracy: 0.9993 - val_loss: 8.8421 - val_binary_accuracy: 0.9713\n",
      "Epoch 53/400\n",
      "2/2 [==============================] - 1s 340ms/step - loss: 0.1470 - binary_accuracy: 0.9994 - val_loss: 8.7983 - val_binary_accuracy: 0.9719\n",
      "Epoch 54/400\n",
      "2/2 [==============================] - 1s 347ms/step - loss: 0.1752 - binary_accuracy: 0.9995 - val_loss: 8.7962 - val_binary_accuracy: 0.9720\n",
      "Epoch 55/400\n",
      "2/2 [==============================] - 1s 334ms/step - loss: 0.2440 - binary_accuracy: 0.9993 - val_loss: 8.7931 - val_binary_accuracy: 0.9720\n",
      "Epoch 56/400\n",
      "2/2 [==============================] - 1s 333ms/step - loss: 0.1687 - binary_accuracy: 0.9996 - val_loss: 8.7060 - val_binary_accuracy: 0.9796\n",
      "Epoch 57/400\n",
      "2/2 [==============================] - 1s 336ms/step - loss: 0.1458 - binary_accuracy: 0.9997 - val_loss: 8.9580 - val_binary_accuracy: 0.9806\n",
      "Epoch 58/400\n",
      "2/2 [==============================] - 1s 328ms/step - loss: 0.1469 - binary_accuracy: 0.9998 - val_loss: 8.9532 - val_binary_accuracy: 0.9806\n",
      "Epoch 59/400\n",
      "2/2 [==============================] - 1s 332ms/step - loss: 1.9263 - binary_accuracy: 0.9759 - val_loss: 8.8750 - val_binary_accuracy: 0.9810\n",
      "Epoch 60/400\n",
      "2/2 [==============================] - 1s 391ms/step - loss: 3.9139 - binary_accuracy: 0.9322 - val_loss: 8.4571 - val_binary_accuracy: 0.9824\n",
      "Epoch 61/400\n",
      "2/2 [==============================] - 1s 385ms/step - loss: 2.3158 - binary_accuracy: 0.9694 - val_loss: 8.1791 - val_binary_accuracy: 0.9835\n",
      "Epoch 62/400\n",
      "2/2 [==============================] - 1s 349ms/step - loss: 0.1453 - binary_accuracy: 0.9999 - val_loss: 8.1428 - val_binary_accuracy: 0.9841\n",
      "Epoch 63/400\n",
      "2/2 [==============================] - 1s 349ms/step - loss: 0.1485 - binary_accuracy: 0.9999 - val_loss: 8.0456 - val_binary_accuracy: 0.9846\n",
      "Epoch 64/400\n",
      "2/2 [==============================] - 1s 360ms/step - loss: 0.1452 - binary_accuracy: 1.0000 - val_loss: 8.0095 - val_binary_accuracy: 0.9849\n",
      "Epoch 65/400\n",
      "2/2 [==============================] - 1s 364ms/step - loss: 0.1452 - binary_accuracy: 1.0000 - val_loss: 7.9796 - val_binary_accuracy: 0.9851\n",
      "Epoch 66/400\n",
      "2/2 [==============================] - 1s 370ms/step - loss: 0.1386 - binary_accuracy: 0.9798 - val_loss: 7.7434 - val_binary_accuracy: 0.9848\n",
      "Epoch 67/400\n",
      "2/2 [==============================] - 1s 330ms/step - loss: 0.1590 - binary_accuracy: 0.9561 - val_loss: 7.9506 - val_binary_accuracy: 0.9848\n",
      "Epoch 68/400\n",
      "2/2 [==============================] - 1s 334ms/step - loss: 0.1266 - binary_accuracy: 0.9572 - val_loss: 8.0176 - val_binary_accuracy: 0.9833\n",
      "Epoch 69/400\n",
      "2/2 [==============================] - 1s 333ms/step - loss: 0.1390 - binary_accuracy: 0.9804 - val_loss: 8.0103 - val_binary_accuracy: 0.9833\n",
      "Epoch 70/400\n",
      "2/2 [==============================] - 1s 328ms/step - loss: 0.1741 - binary_accuracy: 0.9564 - val_loss: 8.1097 - val_binary_accuracy: 0.9851\n",
      "Epoch 71/400\n",
      "2/2 [==============================] - 1s 334ms/step - loss: 0.1889 - binary_accuracy: 0.9565 - val_loss: 8.3061 - val_binary_accuracy: 0.9855\n",
      "Epoch 72/400\n",
      "2/2 [==============================] - 1s 337ms/step - loss: 0.1298 - binary_accuracy: 0.9608 - val_loss: 8.2986 - val_binary_accuracy: 0.9855\n",
      "Epoch 73/400\n",
      "2/2 [==============================] - 1s 324ms/step - loss: 0.1421 - binary_accuracy: 0.9571 - val_loss: 8.2869 - val_binary_accuracy: 0.9854\n",
      "Epoch 74/400\n",
      "2/2 [==============================] - 1s 330ms/step - loss: 0.1934 - binary_accuracy: 0.9571 - val_loss: 8.2843 - val_binary_accuracy: 0.9854\n",
      "Epoch 75/400\n",
      "2/2 [==============================] - 1s 338ms/step - loss: 0.1461 - binary_accuracy: 0.9575 - val_loss: 8.2784 - val_binary_accuracy: 0.9855\n",
      "Epoch 76/400\n",
      "2/2 [==============================] - 1s 338ms/step - loss: 0.1445 - binary_accuracy: 1.0000 - val_loss: 8.2750 - val_binary_accuracy: 0.9856\n",
      "Epoch 77/400\n",
      "2/2 [==============================] - 1s 339ms/step - loss: 0.1445 - binary_accuracy: 1.0000 - val_loss: 8.2725 - val_binary_accuracy: 0.9856\n",
      "Epoch 78/400\n",
      "2/2 [==============================] - 1s 336ms/step - loss: 0.1444 - binary_accuracy: 1.0000 - val_loss: 8.2705 - val_binary_accuracy: 0.9856\n",
      "Epoch 79/400\n",
      "2/2 [==============================] - 1s 347ms/step - loss: 0.1444 - binary_accuracy: 1.0000 - val_loss: 8.2689 - val_binary_accuracy: 0.9856\n",
      "Epoch 80/400\n",
      "2/2 [==============================] - 1s 348ms/step - loss: 0.1443 - binary_accuracy: 1.0000 - val_loss: 8.2675 - val_binary_accuracy: 0.9856\n",
      "Epoch 81/400\n",
      "2/2 [==============================] - 1s 345ms/step - loss: 0.1443 - binary_accuracy: 1.0000 - val_loss: 8.2665 - val_binary_accuracy: 0.9856\n",
      "Epoch 82/400\n",
      "2/2 [==============================] - 1s 345ms/step - loss: 0.1442 - binary_accuracy: 1.0000 - val_loss: 8.2656 - val_binary_accuracy: 0.9856\n",
      "Epoch 83/400\n",
      "2/2 [==============================] - 1s 341ms/step - loss: 0.1442 - binary_accuracy: 1.0000 - val_loss: 8.2649 - val_binary_accuracy: 0.9856\n",
      "Epoch 84/400\n",
      "2/2 [==============================] - 1s 349ms/step - loss: 0.1441 - binary_accuracy: 1.0000 - val_loss: 8.2643 - val_binary_accuracy: 0.9856\n",
      "Epoch 85/400\n",
      "2/2 [==============================] - 1s 344ms/step - loss: 0.1440 - binary_accuracy: 1.0000 - val_loss: 8.2639 - val_binary_accuracy: 0.9856\n",
      "Epoch 86/400\n",
      "2/2 [==============================] - 1s 375ms/step - loss: 0.1440 - binary_accuracy: 1.0000 - val_loss: 8.2635 - val_binary_accuracy: 0.9856\n",
      "Epoch 87/400\n",
      "2/2 [==============================] - 1s 349ms/step - loss: 0.1439 - binary_accuracy: 1.0000 - val_loss: 8.2632 - val_binary_accuracy: 0.9856\n",
      "Epoch 88/400\n",
      "2/2 [==============================] - 1s 341ms/step - loss: 0.1438 - binary_accuracy: 1.0000 - val_loss: 8.2630 - val_binary_accuracy: 0.9856\n",
      "Epoch 89/400\n",
      "2/2 [==============================] - 1s 361ms/step - loss: 0.1438 - binary_accuracy: 1.0000 - val_loss: 8.2628 - val_binary_accuracy: 0.9856\n",
      "Epoch 90/400\n",
      "2/2 [==============================] - 1s 353ms/step - loss: 0.1437 - binary_accuracy: 1.0000 - val_loss: 8.2627 - val_binary_accuracy: 0.9856\n",
      "Epoch 91/400\n",
      "2/2 [==============================] - 1s 348ms/step - loss: 0.1437 - binary_accuracy: 1.0000 - val_loss: 8.2626 - val_binary_accuracy: 0.9856\n",
      "Epoch 92/400\n",
      "2/2 [==============================] - 1s 353ms/step - loss: 0.1436 - binary_accuracy: 1.0000 - val_loss: 8.2625 - val_binary_accuracy: 0.9856\n",
      "Epoch 93/400\n",
      "2/2 [==============================] - 1s 356ms/step - loss: 0.1435 - binary_accuracy: 1.0000 - val_loss: 8.2625 - val_binary_accuracy: 0.9856\n",
      "Epoch 94/400\n",
      "2/2 [==============================] - 1s 357ms/step - loss: 0.1435 - binary_accuracy: 1.0000 - val_loss: 8.2624 - val_binary_accuracy: 0.9856\n",
      "Epoch 95/400\n",
      "2/2 [==============================] - 1s 360ms/step - loss: 0.1434 - binary_accuracy: 1.0000 - val_loss: 8.2624 - val_binary_accuracy: 0.9856\n",
      "Epoch 96/400\n",
      "2/2 [==============================] - 1s 353ms/step - loss: 0.1433 - binary_accuracy: 1.0000 - val_loss: 8.2624 - val_binary_accuracy: 0.9856\n",
      "Epoch 97/400\n",
      "2/2 [==============================] - 1s 345ms/step - loss: 0.1433 - binary_accuracy: 1.0000 - val_loss: 8.2624 - val_binary_accuracy: 0.9856\n",
      "Epoch 98/400\n",
      "2/2 [==============================] - 1s 337ms/step - loss: 0.1432 - binary_accuracy: 1.0000 - val_loss: 8.2624 - val_binary_accuracy: 0.9856\n",
      "Epoch 99/400\n",
      "2/2 [==============================] - 1s 345ms/step - loss: 0.1432 - binary_accuracy: 1.0000 - val_loss: 8.2625 - val_binary_accuracy: 0.9856\n",
      "Epoch 100/400\n",
      "2/2 [==============================] - 1s 354ms/step - loss: 0.1431 - binary_accuracy: 1.0000 - val_loss: 8.2625 - val_binary_accuracy: 0.9856\n",
      "Epoch 101/400\n",
      "2/2 [==============================] - 1s 336ms/step - loss: 0.1430 - binary_accuracy: 1.0000 - val_loss: 8.2625 - val_binary_accuracy: 0.9856\n",
      "Epoch 102/400\n",
      "2/2 [==============================] - 1s 349ms/step - loss: 0.1430 - binary_accuracy: 1.0000 - val_loss: 8.2625 - val_binary_accuracy: 0.9856\n",
      "Epoch 103/400\n",
      "2/2 [==============================] - 1s 347ms/step - loss: 0.1429 - binary_accuracy: 1.0000 - val_loss: 8.2626 - val_binary_accuracy: 0.9856\n",
      "Epoch 104/400\n",
      "2/2 [==============================] - 1s 357ms/step - loss: 0.1428 - binary_accuracy: 1.0000 - val_loss: 8.2626 - val_binary_accuracy: 0.9856\n",
      "Epoch 105/400\n",
      "2/2 [==============================] - 1s 346ms/step - loss: 0.1428 - binary_accuracy: 1.0000 - val_loss: 8.2626 - val_binary_accuracy: 0.9856\n",
      "Epoch 106/400\n",
      "2/2 [==============================] - 1s 350ms/step - loss: 0.1427 - binary_accuracy: 1.0000 - val_loss: 8.2627 - val_binary_accuracy: 0.9856\n",
      "Epoch 107/400\n",
      "2/2 [==============================] - 1s 349ms/step - loss: 0.1426 - binary_accuracy: 1.0000 - val_loss: 8.2627 - val_binary_accuracy: 0.9856\n",
      "Epoch 108/400\n",
      "2/2 [==============================] - 1s 366ms/step - loss: 0.1426 - binary_accuracy: 1.0000 - val_loss: 8.2627 - val_binary_accuracy: 0.9856\n",
      "Epoch 109/400\n",
      "2/2 [==============================] - 1s 355ms/step - loss: 0.1425 - binary_accuracy: 1.0000 - val_loss: 8.2628 - val_binary_accuracy: 0.9856\n",
      "Epoch 110/400\n",
      "2/2 [==============================] - 1s 347ms/step - loss: 0.1425 - binary_accuracy: 1.0000 - val_loss: 8.2628 - val_binary_accuracy: 0.9856\n",
      "Epoch 111/400\n",
      "2/2 [==============================] - 1s 336ms/step - loss: 0.1424 - binary_accuracy: 1.0000 - val_loss: 8.2628 - val_binary_accuracy: 0.9856\n",
      "Epoch 112/400\n",
      "2/2 [==============================] - 1s 346ms/step - loss: 0.1423 - binary_accuracy: 1.0000 - val_loss: 8.2629 - val_binary_accuracy: 0.9856\n",
      "Epoch 113/400\n",
      "2/2 [==============================] - 1s 354ms/step - loss: 0.1423 - binary_accuracy: 1.0000 - val_loss: 8.2629 - val_binary_accuracy: 0.9856\n",
      "Epoch 114/400\n",
      "2/2 [==============================] - 1s 337ms/step - loss: 0.1422 - binary_accuracy: 1.0000 - val_loss: 8.2629 - val_binary_accuracy: 0.9856\n",
      "Epoch 115/400\n",
      "2/2 [==============================] - 1s 341ms/step - loss: 0.1421 - binary_accuracy: 1.0000 - val_loss: 8.2630 - val_binary_accuracy: 0.9856\n",
      "Epoch 116/400\n",
      "2/2 [==============================] - 1s 369ms/step - loss: 0.1421 - binary_accuracy: 1.0000 - val_loss: 8.2630 - val_binary_accuracy: 0.9856\n"
     ]
    },
    {
     "data": {
      "text/plain": [
       "<keras.src.callbacks.History at 0x284644d3090>"
      ]
     },
     "execution_count": 22,
     "metadata": {},
     "output_type": "execute_result"
    }
   ],
   "source": [
    "# We train the neural network\n",
    "model.fit(values, labels, epochs=400, validation_split=0.2, batch_size=10, callbacks=[early_stopping])"
   ]
  },
  {
   "cell_type": "code",
   "execution_count": 24,
   "metadata": {},
   "outputs": [
    {
     "data": {
      "image/png": "[encoded data removed]",
      "text/plain": [
       "<Figure size 640x480 with 1 Axes>"
      ]
     },
     "metadata": {},
     "output_type": "display_data"
    }
   ],
   "source": [
    "# Plot the loss and validation loss\n",
    "plt.plot(model.history.history['loss'], label='Loss')\n",
    "plt.plot(model.history.history['val_loss'], label='Validation Loss')\n",
    "plt.xlabel('Epochs')\n",
    "plt.ylabel('Loss')\n",
    "plt.legend()\n",
    "plt.show()\n"
   ]
  },
  {
   "cell_type": "code",
   "execution_count": 25,
   "metadata": {},
   "outputs": [
    {
     "name": "stderr",
     "output_type": "stream",
     "text": [
      "c:\\Users\\marce\\miniconda3\\envs\\Masterarbeit\\Lib\\site-packages\\keras\\src\\engine\\training.py:3079: UserWarning: You are saving your model as an HDF5 file via `model.save()`. This file format is considered legacy. We recommend using instead the native Keras format, e.g. `model.save('my_model.keras')`.\n",
      "  saving_api.save_model(\n"
     ]
    }
   ],
   "source": [
    "model.save(\"LSTM_ShearYZ.h5\")\n"
   ]
  },
  {
   "cell_type": "code",
   "execution_count": 20,
   "metadata": {},
   "outputs": [],
   "source": [
    "model_path = os.path.join(os.path.abspath(''),\"LSTM_ShearYZ.h5\")\n",
    "model = tf.keras.models.load_model(model_path)"
   ]
  },
  {
   "cell_type": "code",
   "execution_count": 21,
   "metadata": {},
   "outputs": [
    {
     "name": "stdout",
     "output_type": "stream",
     "text": [
      "1/1 [==============================] - 0s 427ms/step\n"
     ]
    }
   ],
   "source": [
    "prediction = model.predict(values)"
   ]
  },
  {
   "cell_type": "code",
   "execution_count": 22,
   "metadata": {},
   "outputs": [
    {
     "name": "stdout",
     "output_type": "stream",
     "text": [
      "[9.1640855e-11 1.1173075e-19 2.0970854e-20 ... 3.0067968e-16 3.3388023e-15\n",
      " 1.7571161e-17]\n"
     ]
    }
   ],
   "source": [
    "print(prediction[0])"
   ]
  },
  {
   "cell_type": "code",
   "execution_count": 37,
   "metadata": {},
   "outputs": [
    {
     "name": "stdout",
     "output_type": "stream",
     "text": [
      "(29226,)\n",
      "(29226,)\n"
     ]
    }
   ],
   "source": [
    "print(labels[0].shape)\n",
    "print(prediction[0].shape)"
   ]
  },
  {
   "cell_type": "code",
   "execution_count": 41,
   "metadata": {},
   "outputs": [
    {
     "data": {
      "image/png": "[encoded data removed]",
      "text/plain": [
       "<Figure size 800x600 with 2 Axes>"
      ]
     },
     "metadata": {},
     "output_type": "display_data"
    },
    {
     "name": "stdout",
     "output_type": "stream",
     "text": [
      "[[29118     0]\n",
      " [    0   108]]\n"
     ]
    }
   ],
   "source": [
    "from sklearn.metrics import confusion_matrix\n",
    "import seaborn as sns\n",
    "\n",
    "# Convert the predictions to binary values\n",
    "results = []\n",
    "for element in prediction[5]:\n",
    "        if element >= 0.5:\n",
    "            results.append(1) \n",
    "        else:\n",
    "            results.append(0)\n",
    "\n",
    "# Create the confusion matrix\n",
    "cm = confusion_matrix(labels[5], results)\n",
    "# Plot the confusion matrix\n",
    "plt.figure(figsize=(8, 6))\n",
    "sns.heatmap(cm, annot=True, fmt='d', cmap='Blues')\n",
    "plt.title('Confusion Matrix')\n",
    "plt.xlabel('Predicted Labels')\n",
    "plt.ylabel('True Labels')\n",
    "plt.show()\n",
    "\n",
    "\n",
    "# Print the confusion matrix\n",
    "print(cm)\n"
   ]
  },
  {
   "cell_type": "code",
   "execution_count": 29,
   "metadata": {},
   "outputs": [
    {
     "data": {
      "image/png": "[encoded data removed]",
      "text/plain": [
       "<Figure size 1000x800 with 2 Axes>"
      ]
     },
     "metadata": {},
     "output_type": "display_data"
    }
   ],
   "source": [
    "numbers = list(i for i in range(29226))\n",
    "j = 4\n",
    "fig, (ax1, ax2) = plt.subplots(2, 1, figsize=(10, 8))\n",
    "\n",
    "ax1.scatter(numbers, prediction[j], color=\"blue\",)\n",
    "ax1.set_title(\"Prediction\")\n",
    "ax1.set_xlabel(\"Numbers\")\n",
    "ax1.set_ylabel(\"Value\")\n",
    "ax1.set_ylim(0, 1)  # Set the y-axis limits to 0 and 1\n",
    "\n",
    "ax2.scatter(numbers, labels[j], color=\"black\")\n",
    "ax2.set_title(\"Labels\")\n",
    "ax2.set_xlabel(\"Numbers\")\n",
    "ax2.set_ylabel(\"Value\")\n",
    "ax2.set_ylim(0, 1)  # Set the y-axis limits to 0 and 1\n",
    "\n",
    "plt.tight_layout()\n",
    "plt.show()\n"
   ]
  },
  {
   "cell_type": "code",
   "execution_count": 42,
   "metadata": {},
   "outputs": [],
   "source": [
    "test_data = generate_data_imperfect(\"Imperfect_no_4_1_train_middle_track_2000N_test_set\",\"Perfect_structure_1_train_middle_track_2000N\",case)"
   ]
  },
  {
   "cell_type": "code",
   "execution_count": 43,
   "metadata": {},
   "outputs": [
    {
     "data": {
      "text/plain": [
       "(10, 29226)"
      ]
     },
     "execution_count": 43,
     "metadata": {},
     "output_type": "execute_result"
    }
   ],
   "source": [
    "test_data.shape"
   ]
  },
  {
   "cell_type": "code",
   "execution_count": 44,
   "metadata": {},
   "outputs": [],
   "source": [
    "values_test = test_data[0:-1]\n",
    "labels_test = test_data[-1]\n",
    "\n",
    "\n",
    "values_test = np.array(values_test)\n",
    "labels_test = np.array(labels_test)"
   ]
  },
  {
   "cell_type": "code",
   "execution_count": 45,
   "metadata": {},
   "outputs": [
    {
     "data": {
      "text/plain": [
       "(9, 29226)"
      ]
     },
     "execution_count": 45,
     "metadata": {},
     "output_type": "execute_result"
    }
   ],
   "source": [
    "values_test.shape"
   ]
  },
  {
   "cell_type": "code",
   "execution_count": 46,
   "metadata": {},
   "outputs": [],
   "source": [
    "values_test = np.reshape(values_test, (1, values_test.shape[0], values_test.shape[1]))"
   ]
  },
  {
   "cell_type": "code",
   "execution_count": 47,
   "metadata": {},
   "outputs": [
    {
     "data": {
      "text/plain": [
       "(1, 9, 29226)"
      ]
     },
     "execution_count": 47,
     "metadata": {},
     "output_type": "execute_result"
    }
   ],
   "source": [
    "values_test.shape"
   ]
  },
  {
   "cell_type": "code",
   "execution_count": 48,
   "metadata": {},
   "outputs": [
    {
     "name": "stdout",
     "output_type": "stream",
     "text": [
      "1/1 [==============================] - 0s 266ms/step\n"
     ]
    }
   ],
   "source": [
    "prediction_test = model.predict([values_test])"
   ]
  },
  {
   "cell_type": "code",
   "execution_count": 51,
   "metadata": {},
   "outputs": [
    {
     "data": {
      "text/plain": [
       "array([[0., 0., 0., ..., 0., 0., 0.]], dtype=float32)"
      ]
     },
     "execution_count": 51,
     "metadata": {},
     "output_type": "execute_result"
    }
   ],
   "source": [
    "prediction_test"
   ]
  },
  {
   "cell_type": "code",
   "execution_count": 52,
   "metadata": {},
   "outputs": [
    {
     "data": {
      "image/png": "[encoded data removed]",
      "text/plain": [
       "<Figure size 800x600 with 2 Axes>"
      ]
     },
     "metadata": {},
     "output_type": "display_data"
    },
    {
     "name": "stdout",
     "output_type": "stream",
     "text": [
      "[[28962     0]\n",
      " [    0   264]]\n"
     ]
    }
   ],
   "source": [
    "# Convert the predictions to binary values\n",
    "results_test = []\n",
    "for element in prediction_test[0]:\n",
    "    if element >= 0.5:\n",
    "        results_test.append(1) \n",
    "    else:\n",
    "        results_test.append(0)\n",
    "\n",
    "# Create the confusion matrix\n",
    "cm_test = confusion_matrix(labels_test, results_test)\n",
    "\n",
    "# Plot the confusion matrix\n",
    "plt.figure(figsize=(8, 6))\n",
    "sns.heatmap(cm_test, annot=True, fmt='d', cmap='Blues')\n",
    "plt.title('Confusion Matrix (Test)')\n",
    "plt.xlabel('Predicted Labels')\n",
    "plt.ylabel('True Labels')\n",
    "plt.show()\n",
    "\n",
    "# Print the confusion matrix\n",
    "print(cm_test)\n"
   ]
  }
 ],
 "metadata": {
  "kernelspec": {
   "display_name": "Python 3",
   "language": "python",
   "name": "python3"
  },
  "language_info": {
   "codemirror_mode": {
    "name": "ipython",
    "version": 3
   },
   "file_extension": ".py",
   "mimetype": "text/x-python",
   "name": "python",
   "nbconvert_exporter": "python",
   "pygments_lexer": "ipython3",
   "version": "3.11.4"
  }
 },
 "nbformat": 4,
 "nbformat_minor": 2
}
